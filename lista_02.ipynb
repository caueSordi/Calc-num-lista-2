{
 "cells": [
  {
   "cell_type": "markdown",
   "metadata": {},
   "source": [
    "## Exercício 01"
   ]
  },
  {
   "cell_type": "code",
   "execution_count": null,
   "metadata": {},
   "outputs": [],
   "source": [
    "import numpy as np\n",
    "import matplotlib.pyplot as plt\n",
    "import time\n",
    "\n",
    "C = np.array([2,2,1,2,1,2,2])\n",
    "conec = np.array([[1,2],[2,3],[3,4],[4,5],[5,2],[5,3],[5,1]])\n"
   ]
  },
  {
   "cell_type": "code",
   "execution_count": null,
   "metadata": {},
   "outputs": [],
   "source": [
    "#\n",
    "\n",
    "def Assembly(conec,C):\n",
    "    nv = max(conec[:,0])#numero de nos \n",
    "    nc = len(conec[:,0])# numero de linhas\n",
    "\n",
    "    A = np.zeros((nv,nv))\n",
    "    for i in range(nc):\n",
    "        n1=conec [i,0]-1\n",
    "        n2=conec [i,1]-1\n",
    "\n",
    "        A[n1,n2] += -C[i]\n",
    "        A[n2,n1] += -C[i]\n",
    "        A[n1,n1] += C[i]\n",
    "        A[n2,n2] += C[i]\n",
    "\n",
    "    return A\n"
   ]
  },
  {
   "cell_type": "code",
   "execution_count": null,
   "metadata": {},
   "outputs": [],
   "source": [
    "print('A = \\n',Assembly(conec,C))"
   ]
  },
  {
   "cell_type": "code",
   "execution_count": null,
   "metadata": {},
   "outputs": [],
   "source": []
  }
 ],
 "metadata": {
  "language_info": {
   "name": "python"
  }
 },
 "nbformat": 4,
 "nbformat_minor": 2
}
