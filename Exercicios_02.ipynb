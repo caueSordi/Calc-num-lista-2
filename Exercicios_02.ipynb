{
 "cells": [
  {
   "cell_type": "markdown",
   "metadata": {},
   "source": [
    "## exercicio 1"
   ]
  },
  {
   "cell_type": "code",
   "execution_count": 53,
   "metadata": {},
   "outputs": [],
   "source": [
    "import numpy as np\n",
    "conec = np.array([[1,2],[2,3],[3,4],[4,5],[5,2],[5,3],[5,1]])\n",
    "C= np.array ([2,2,1,2,1,2,2])"
   ]
  },
  {
   "cell_type": "code",
   "execution_count": 54,
   "metadata": {},
   "outputs": [],
   "source": [
    "#\n",
    "\n",
    "def Assembly(conec,C):\n",
    "    nv = max(conec[:,0])#numero de nos \n",
    "    nc = len(conec[:,0])# numero de linhas\n",
    "\n",
    "    A = np.zeros((nv,nv))\n",
    "    for i in range(nc):\n",
    "        n1=conec [i,0]-1\n",
    "        n2=conec [i,1]-1\n",
    "\n",
    "        A[n1,n2] += -C[i]\n",
    "        A[n2,n1] += -C[i]\n",
    "        A[n1,n1] += C[i]\n",
    "        A[n2,n2] += C[i]\n",
    "\n",
    "    return A\n"
   ]
  },
  {
   "cell_type": "code",
   "execution_count": 55,
   "metadata": {},
   "outputs": [
    {
     "name": "stdout",
     "output_type": "stream",
     "text": [
      "A = \n",
      " [[ 4. -2.  0.  0. -2.]\n",
      " [-2.  5. -2.  0. -1.]\n",
      " [ 0. -2.  5. -1. -2.]\n",
      " [ 0.  0. -1.  3. -2.]\n",
      " [-2. -1. -2. -2.  7.]]\n"
     ]
    }
   ],
   "source": [
    "print('A = \\n',Assembly(conec,C))"
   ]
  },
  {
   "cell_type": "markdown",
   "metadata": {},
   "source": [
    "## exercicios 2"
   ]
  },
  {
   "cell_type": "code",
   "execution_count": 56,
   "metadata": {},
   "outputs": [],
   "source": [
    "def SolveNetwork(conec, C, natm, nB, QB):\n",
    "    Atilde = Assembly (conec, C)\n",
    "    natm -= 1\n",
    "    nB -= 1\n",
    "    Atilde [natm,:] = 0\n",
    "    Atilde [natm,natm] = 1\n",
    "\n",
    "    b = np.zeros((len(Atilde),1))\n",
    "    b[nB] = QB\n",
    "    pressure = np.linalg.solve(Atilde,b)\n",
    "\n",
    "    return pressure\n",
    "    "
   ]
  },
  {
   "cell_type": "code",
   "execution_count": 57,
   "metadata": {},
   "outputs": [
    {
     "name": "stdout",
     "output_type": "stream",
     "text": [
      "[[1.398]\n",
      " [0.682]\n",
      " [0.   ]\n",
      " [0.409]\n",
      " [0.614]]\n"
     ]
    }
   ],
   "source": [
    "P = SolveNetwork(conec, C, 3, 1, 3)\n",
    "print(np.round(P, 3))"
   ]
  },
  {
   "cell_type": "code",
   "execution_count": null,
   "metadata": {},
   "outputs": [],
   "source": []
  },
  {
   "cell_type": "markdown",
   "metadata": {},
   "source": [
    "## exercicio 03\n"
   ]
  },
  {
   "cell_type": "code",
   "execution_count": 58,
   "metadata": {},
   "outputs": [],
   "source": [
    "def KD(conec, C):\n",
    "    nv = max(conec[:, 0])               # maximo de nos\n",
    "    nc = len(conec[:, 0])               # numero de linhas\n",
    "    K = np.zeros(shape=(nc,nc))\n",
    "    D = np.zeros(shape=(nc,nv))\n",
    "    \n",
    "    for i in range(nc):     #diag principal\n",
    "        K[i,i] = C[i]\n",
    "\n",
    "    for k in range(nc):                  \n",
    "        n1 = conec[k,0]-1\n",
    "        n2 = conec[k,1]-1\n",
    "\n",
    "\n",
    "        D[k,n1] = 1\n",
    "        D[k,n2] = -1 \n",
    "\n",
    "    return K, D"
   ]
  },
  {
   "cell_type": "code",
   "execution_count": 59,
   "metadata": {},
   "outputs": [],
   "source": [
    "def Q(conec, C, P):\n",
    "    nv = max(conec[:, 0])       # numero de nos\n",
    "    nc = len(conec[:, 0])       # numero de canos\n",
    "    \n",
    "           \n",
    "    K = np.zeros(shape=(nc,nc))\n",
    "    D = np.zeros(shape=(nc,nv))\n",
    "\n",
    "    K, D = KD(conec, C)\n",
    "\n",
    "    return ((K @ D) @ P)"
   ]
  },
  {
   "cell_type": "code",
   "execution_count": 60,
   "metadata": {},
   "outputs": [
    {
     "name": "stdout",
     "output_type": "stream",
     "text": [
      ">> K: \n",
      " [[2. 0. 0. 0. 0. 0. 0.]\n",
      " [0. 2. 0. 0. 0. 0. 0.]\n",
      " [0. 0. 1. 0. 0. 0. 0.]\n",
      " [0. 0. 0. 2. 0. 0. 0.]\n",
      " [0. 0. 0. 0. 1. 0. 0.]\n",
      " [0. 0. 0. 0. 0. 2. 0.]\n",
      " [0. 0. 0. 0. 0. 0. 2.]] \n",
      "\n",
      ">> D: \n",
      " [[ 1. -1.  0.  0.  0.]\n",
      " [ 0.  1. -1.  0.  0.]\n",
      " [ 0.  0.  1. -1.  0.]\n",
      " [ 0.  0.  0.  1. -1.]\n",
      " [ 0. -1.  0.  0.  1.]\n",
      " [ 0.  0. -1.  0.  1.]\n",
      " [-1.  0.  0.  0.  1.]]\n"
     ]
    }
   ],
   "source": [
    "K, D = KD(conec, C)\n",
    "print(\">> K: \\n\", K, '\\n')\n",
    "print(\">> D: \\n\", D)"
   ]
  },
  {
   "cell_type": "markdown",
   "metadata": {},
   "source": [
    "### Damn it "
   ]
  },
  {
   "cell_type": "code",
   "execution_count": null,
   "metadata": {},
   "outputs": [],
   "source": []
  },
  {
   "cell_type": "markdown",
   "metadata": {},
   "source": [
    "## Exercicio 04"
   ]
  },
  {
   "cell_type": "code",
   "execution_count": null,
   "metadata": {},
   "outputs": [],
   "source": [
    "def calcula_potencia(conec,P):\n",
    "    nv = max(conec[:, 0])              # numero de nos\n",
    "    nc = len(conec[:, 0])       # numero de canos\n",
    "    \n",
    "    K = np.zeros(shape=(nc,nc))\n",
    "    D = np.zeros(shape=(nc,nv))\n",
    "\n",
    "    K, D = KD(conec, C)\n",
    "    return (np.transpose(P)@(np.transpose(D) @ K @ D ) @ P )\n"
   ]
  },
  {
   "cell_type": "markdown",
   "metadata": {},
   "source": [
    "## Exercicio "
   ]
  },
  {
   "cell_type": "code",
   "execution_count": null,
   "metadata": {},
   "outputs": [],
   "source": [
    "def Assemblye(conec, C, nv, nc):\n",
    "    A = np.zeros(shape=(nv,nv)\n",
    "    for k in range(nc):\n",
    "        n1= conec [k,0]\n",
    "        n2=conec  [k,1]\n",
    "\n",
    "        A[n1,n2] += -C[k]\n",
    "        A[n2,n2] += -C[k]\n",
    "        A[n2,n2] += C[k]\n",
    "        A[n1,n1] += C[k]\n",
    "\n",
    "    return A\n",
    "\n",
    "def ResolveRede(conec, C , natm, nB, QB, nv, nc):\n",
    "    Atilde = Assemblye(conec, C, nv, nc)\n",
    "    natm -= 1\n",
    "    nB -= 1\n",
    "    \n",
    "\n",
    "\n"
   ]
  }
 ],
 "metadata": {
  "kernelspec": {
   "display_name": "Python 3",
   "language": "python",
   "name": "python3"
  },
  "language_info": {
   "codemirror_mode": {
    "name": "ipython",
    "version": 3
   },
   "file_extension": ".py",
   "mimetype": "text/x-python",
   "name": "python",
   "nbconvert_exporter": "python",
   "pygments_lexer": "ipython3",
   "version": "3.12.2"
  }
 },
 "nbformat": 4,
 "nbformat_minor": 2
}
