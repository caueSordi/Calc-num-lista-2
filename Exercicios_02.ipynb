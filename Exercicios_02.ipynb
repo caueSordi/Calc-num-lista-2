{
 "cells": [
  {
   "cell_type": "markdown",
   "metadata": {},
   "source": [
    "## exercicio 1"
   ]
  },
  {
   "cell_type": "code",
   "execution_count": 1,
   "metadata": {},
   "outputs": [],
   "source": [
    "import numpy as np\n",
    "conec = np.array([[1,2],[2,3],[3,4],[4,5],[5,2],[5,3],[5,1]])\n",
    "C= np.array ([2,2,1,2,1,2,2])"
   ]
  },
  {
   "cell_type": "code",
   "execution_count": 2,
   "metadata": {},
   "outputs": [],
   "source": [
    "#\n",
    "\n",
    "def Assembly(conec,C):\n",
    "    nv = max(conec[:,0])#numero de nos \n",
    "    nc = len(conec[:,0])# numero de linhas\n",
    "\n",
    "    A = np.zeros((nv,nv))\n",
    "    for i in range(nc):\n",
    "        n1=conec [i,0]-1\n",
    "        n2=conec [i,1]-1\n",
    "\n",
    "        A[n1,n2] += -C[i]\n",
    "        A[n2,n1] += -C[i]\n",
    "        A[n1,n1] += C[i]\n",
    "        A[n2,n2] += C[i]\n",
    "\n",
    "    return A\n"
   ]
  },
  {
   "cell_type": "code",
   "execution_count": 3,
   "metadata": {},
   "outputs": [
    {
     "name": "stdout",
     "output_type": "stream",
     "text": [
      "A = \n",
      " [[ 4. -2.  0.  0. -2.]\n",
      " [-2.  5. -2.  0. -1.]\n",
      " [ 0. -2.  5. -1. -2.]\n",
      " [ 0.  0. -1.  3. -2.]\n",
      " [-2. -1. -2. -2.  7.]]\n"
     ]
    }
   ],
   "source": [
    "print('A = \\n',Assembly(conec,C))"
   ]
  },
  {
   "cell_type": "markdown",
   "metadata": {},
   "source": [
    "## exercicios 2"
   ]
  },
  {
   "cell_type": "code",
   "execution_count": 4,
   "metadata": {},
   "outputs": [],
   "source": [
    "def SolveNetwork(conec, natm, nB, QB):\n",
    "    Atilde = Assembly (conec, C)\n",
    "    Atilde[natm,:] = 0\n",
    "\n",
    "    for i in range(nB):\n",
    "        Atilde[natm,i] = QB[i]\n",
    "        \n",
    "    \n",
    "    \n",
    "    b=np.zerps(natm)\n",
    "\n",
    "    pressure = np.linalg.solve(Atilde,b)\n",
    "\n",
    "    return pressure\n",
    "    "
   ]
  }
 ],
 "metadata": {
  "kernelspec": {
   "display_name": "Python 3",
   "language": "python",
   "name": "python3"
  },
  "language_info": {
   "codemirror_mode": {
    "name": "ipython",
    "version": 3
   },
   "file_extension": ".py",
   "mimetype": "text/x-python",
   "name": "python",
   "nbconvert_exporter": "python",
   "pygments_lexer": "ipython3",
   "version": "3.12.2"
  }
 },
 "nbformat": 4,
 "nbformat_minor": 2
}
