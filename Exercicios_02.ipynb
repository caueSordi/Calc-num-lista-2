{
 "cells": [
  {
   "cell_type": "markdown",
   "metadata": {},
   "source": [
    "## exercicio 1"
   ]
  },
  {
   "cell_type": "code",
   "execution_count": 93,
   "metadata": {},
   "outputs": [],
   "source": [
    "import numpy as np\n",
    "conec = np.array([[1,2],[2,3],[3,4],[4,5],[5,2],[5,3],[5,1]])\n",
    "C= np.array ([2,2,1,2,1,2,2])"
   ]
  },
  {
   "cell_type": "code",
   "execution_count": 94,
   "metadata": {},
   "outputs": [],
   "source": [
    "#\n",
    "\n",
    "def Assembly(conec,C):\n",
    "    nv = max(conec[:,0])#numero de nos \n",
    "    nc = len(conec[:,0])# numero de linhas\n",
    "\n",
    "    A = np.zeros((nv,nv))\n",
    "    for i in range(nc):\n",
    "        n1=conec [i,0]-1\n",
    "        n2=conec [i,1]-1\n",
    "\n",
    "        A[n1,n2] += -C[i]\n",
    "        A[n2,n1] += -C[i]\n",
    "        A[n1,n1] += C[i]\n",
    "        A[n2,n2] += C[i]\n",
    "\n",
    "    return A\n"
   ]
  },
  {
   "cell_type": "code",
   "execution_count": 95,
   "metadata": {},
   "outputs": [
    {
     "name": "stdout",
     "output_type": "stream",
     "text": [
      "A = \n",
      " [[ 4. -2.  0.  0. -2.]\n",
      " [-2.  5. -2.  0. -1.]\n",
      " [ 0. -2.  5. -1. -2.]\n",
      " [ 0.  0. -1.  3. -2.]\n",
      " [-2. -1. -2. -2.  7.]]\n"
     ]
    }
   ],
   "source": [
    "print('A = \\n',Assembly(conec,C))"
   ]
  },
  {
   "cell_type": "markdown",
   "metadata": {},
   "source": [
    "## exercicios 2"
   ]
  },
  {
   "cell_type": "code",
   "execution_count": 96,
   "metadata": {},
   "outputs": [],
   "source": [
    "def SolveNetwork(conec, C, natm, nB, QB):\n",
    "    Atilde = Assembly (conec, C)\n",
    "    natm -= 1\n",
    "    nB -= 1\n",
    "    Atilde [natm,:] = 0\n",
    "    Atilde [natm,natm] = 1\n",
    "\n",
    "    b = np.zeros((len(Atilde),1))\n",
    "    b[nB] = QB\n",
    "    pressure = np.linalg.solve(Atilde,b)\n",
    "\n",
    "    return pressure\n",
    "    "
   ]
  },
  {
   "cell_type": "code",
   "execution_count": 97,
   "metadata": {},
   "outputs": [
    {
     "name": "stdout",
     "output_type": "stream",
     "text": [
      "[[1.398]\n",
      " [0.682]\n",
      " [0.   ]\n",
      " [0.409]\n",
      " [0.614]]\n"
     ]
    }
   ],
   "source": [
    "P = SolveNetwork(conec, C, 3, 1, 3)\n",
    "print(np.round(P, 3))"
   ]
  },
  {
   "cell_type": "code",
   "execution_count": null,
   "metadata": {},
   "outputs": [],
   "source": []
  },
  {
   "cell_type": "markdown",
   "metadata": {},
   "source": [
    "## exercicio 03\n"
   ]
  },
  {
   "cell_type": "code",
   "execution_count": 98,
   "metadata": {},
   "outputs": [],
   "source": [
    "def KD(conec, C):\n",
    "    nv = max(conec[:, 0])               # maximo de nos\n",
    "    nc = len(conec[:, 0])               # numero de linhas\n",
    "    K = np.zeros(shape=(nc,nc))\n",
    "    D = np.zeros(shape=(nc,nv))\n",
    "    \n",
    "    for i in range(nc):     #diag principal\n",
    "        K[i,i] = C[i]\n",
    "\n",
    "    for k in range(nc):                  \n",
    "        n1 = conec[k,0]-1\n",
    "        n2 = conec[k,1]-1\n",
    "\n",
    "\n",
    "        D[k,n1] = 1\n",
    "        D[k,n2] = -1 \n",
    "\n",
    "    return K, D"
   ]
  },
  {
   "cell_type": "code",
   "execution_count": 99,
   "metadata": {},
   "outputs": [],
   "source": [
    "def Q(conec, C, P):\n",
    "    nv = max(conec[:, 0])       # numero de nos\n",
    "    nc = len(conec[:, 0])       # numero de canos\n",
    "    \n",
    "           \n",
    "    K = np.zeros(shape=(nc,nc))\n",
    "    D = np.zeros(shape=(nc,nv))\n",
    "\n",
    "    K, D = KD(conec, C)\n",
    "\n",
    "    return ((K @ D) @ P)"
   ]
  },
  {
   "cell_type": "code",
   "execution_count": 100,
   "metadata": {},
   "outputs": [
    {
     "name": "stdout",
     "output_type": "stream",
     "text": [
      ">> K: \n",
      " [[2. 0. 0. 0. 0. 0. 0.]\n",
      " [0. 2. 0. 0. 0. 0. 0.]\n",
      " [0. 0. 1. 0. 0. 0. 0.]\n",
      " [0. 0. 0. 2. 0. 0. 0.]\n",
      " [0. 0. 0. 0. 1. 0. 0.]\n",
      " [0. 0. 0. 0. 0. 2. 0.]\n",
      " [0. 0. 0. 0. 0. 0. 2.]] \n",
      "\n",
      ">> D: \n",
      " [[ 1. -1.  0.  0.  0.]\n",
      " [ 0.  1. -1.  0.  0.]\n",
      " [ 0.  0.  1. -1.  0.]\n",
      " [ 0.  0.  0.  1. -1.]\n",
      " [ 0. -1.  0.  0.  1.]\n",
      " [ 0.  0. -1.  0.  1.]\n",
      " [-1.  0.  0.  0.  1.]]\n"
     ]
    }
   ],
   "source": [
    "K, D = KD(conec, C)\n",
    "print(\">> K: \\n\", K, '\\n')\n",
    "print(\">> D: \\n\", D)"
   ]
  },
  {
   "cell_type": "markdown",
   "metadata": {},
   "source": [
    "### Damn it "
   ]
  },
  {
   "cell_type": "code",
   "execution_count": null,
   "metadata": {},
   "outputs": [],
   "source": []
  },
  {
   "cell_type": "markdown",
   "metadata": {},
   "source": [
    "## Exercicio 04"
   ]
  },
  {
   "cell_type": "code",
   "execution_count": 101,
   "metadata": {},
   "outputs": [],
   "source": [
    "def calcula_potencia(conec,P):\n",
    "    nv = max(conec[:, 0])              # numero de nos\n",
    "    nc = len(conec[:, 0])       # numero de canos\n",
    "    \n",
    "    K = np.zeros(shape=(nc,nc))\n",
    "    D = np.zeros(shape=(nc,nv))\n",
    "\n",
    "    K, D = KD(conec, C)\n",
    "    return (np.transpose(P)@(np.transpose(D) @ K @ D ) @ P )\n"
   ]
  },
  {
   "cell_type": "markdown",
   "metadata": {},
   "source": [
    "## Exercicio "
   ]
  },
  {
   "cell_type": "code",
   "execution_count": 102,
   "metadata": {},
   "outputs": [],
   "source": [
    "def Assembly2(conec, C, nv, nc):\n",
    "    A = np.zeros(shape=(nv,nv))\n",
    "    for k in range(nc):\n",
    "        n1 = conec[k,0]\n",
    "        n2 = conec[k,1]\n",
    "\n",
    "        A[n1,n2] += -C[k]\n",
    "        A[n2,n1] += -C[k]\n",
    "        A[n1,n1] += C[k] \n",
    "        A[n2,n2] += C[k]\n",
    "    \n",
    "    return A\n",
    "\n",
    "def SolveNetwork(conec, C, natm, nB, QB, nv, nc):\n",
    "    Atilde = Assembly2(conec, C, nv, nc)\n",
    "    natm -= 1\n",
    "    nB -= 1\n",
    "    Atilde[natm, :] = 0\n",
    "    Atilde[natm, natm] = 1\n",
    "    \n",
    "    b = np.zeros((len(Atilde),1))\n",
    "    b[nB] = QB\n",
    "    pressure = np.linalg.solve(Atilde, b)\n",
    "    return pressure"
   ]
  },
  {
   "cell_type": "code",
   "execution_count": 103,
   "metadata": {},
   "outputs": [],
   "source": [
    "def GeraRede(n,m,CH,CV):\n",
    "    nv = n*m\n",
    "    nc = (n-1)*m + (m-1)*n\n",
    "    \n",
    "    coord = np.zeros(shape=(nv,2))\n",
    "\n",
    "    for i in range(n):\n",
    "      for j in range(m):\n",
    "        ig = i + j*n\n",
    "        coord[ig,0] = i\n",
    "        coord[ig,1] = j\n",
    "\n",
    "    conec = np.zeros(shape=(nc,2), dtype=int)\n",
    "    C = np.zeros(nc)\n",
    "    \n",
    "    # Loop sobre canos horizontais\n",
    "    for j in range(m):\n",
    "        for i in range(n-1):\n",
    "          k = j*(n-1) + i\n",
    "          conec[k,0] = j*n + i\n",
    "          conec[k,1] = j*n + i+1\n",
    "          C[k] = CH\n",
    "\n",
    "    # Loop sobre canos verticais\n",
    "    for i in range(n):\n",
    "      for j in range(m-1):\n",
    "          k = (n-1)*m + j*n + i\n",
    "          conec[k,0] = i + j*n\n",
    "          conec[k,1] = i + (j+1)*n\n",
    "          C[k] = CV\n",
    "\n",
    "    return nv, nc, conec, C, coord\n",
    "    \n",
    "def PlotPressure(m, n, pressure):\n",
    "    x = np.arange(0, m, 1)\n",
    "    y = np.arange(0, n, 1)\n",
    "    X,Y=np.meshgrid(x,y)\n",
    "    Z = np.copy(pressure)\n",
    "    Z.shape = (n,m)\n",
    "    fig, ax = plt.subplots(figsize=(10,10))\n",
    "    ax.set_aspect('equal')\n",
    "    ax.set(xlabel='x', ylabel='y', title='Contours of pressure')\n",
    "    ax.grid()\n",
    "    ax.set_xticks(x)\n",
    "    ax.set_yticks(y)\n",
    "    cp = plt.contourf(X, Y, Z, cmap='jet')\n",
    "    cb = plt.colorbar(cp)\n",
    "    plt.show()\n",
    "\n",
    "def PlotPressureAsSurface(m, n, pressure):\n",
    "    x = np.arange(0, m, 1)\n",
    "    y = np.arange(0, n, 1)\n",
    "    X,Y=np.meshgrid(x,y)\n",
    "    Z = np.copy(pressure)\n",
    "    Z.shape = (n,m)\n",
    "    fig, ax = plt.subplots(figsize=(10,10))\n",
    "    ax.set_aspect('equal')\n",
    "    ax.set(xlabel='x', ylabel='y', title='Contours of pressure')\n",
    "    ax.grid()\n",
    "    ax.set_xticks(x)\n",
    "    ax.set_yticks(y)\n",
    "    ax = plt.axes(projection=\"3d\")\n",
    "    ax.plot_surface(X, Y, Z, cmap='jet', edgecolor=None)\n",
    "    ax.set(xlabel='$x$', ylabel='$y$', zlabel='$z$')\n",
    "    ax.view_init(elev=30., azim=45)\n",
    "    plt.show()"
   ]
  },
  {
   "cell_type": "code",
   "execution_count": 104,
   "metadata": {},
   "outputs": [],
   "source": [
    "m = 10\n",
    "n = 12\n",
    "\n",
    "nv2, nc2, conec2, C2, coord = GeraRede(m,n,1.3, 3.6)\n",
    "#print(nv, '\\n', nc, '\\n', conec, '\\n', C, '\\n', coord)"
   ]
  },
  {
   "cell_type": "code",
   "execution_count": 105,
   "metadata": {},
   "outputs": [
    {
     "ename": "NameError",
     "evalue": "name 'plt' is not defined",
     "output_type": "error",
     "traceback": [
      "\u001b[0;31m---------------------------------------------------------------------------\u001b[0m",
      "\u001b[0;31mNameError\u001b[0m                                 Traceback (most recent call last)",
      "Cell \u001b[0;32mIn[105], line 2\u001b[0m\n\u001b[1;32m      1\u001b[0m P \u001b[38;5;241m=\u001b[39m SolveNetwork(conec2, C2, \u001b[38;5;241m120\u001b[39m, \u001b[38;5;241m1\u001b[39m, \u001b[38;5;241m3\u001b[39m, nv2, nc2)\n\u001b[0;32m----> 2\u001b[0m \u001b[43mPlotPressure\u001b[49m\u001b[43m(\u001b[49m\u001b[43mm\u001b[49m\u001b[43m,\u001b[49m\u001b[43mn\u001b[49m\u001b[43m,\u001b[49m\u001b[43m \u001b[49m\u001b[43mP\u001b[49m\u001b[43m)\u001b[49m\n\u001b[1;32m      3\u001b[0m PlotPressureAsSurface(\u001b[38;5;241m10\u001b[39m,\u001b[38;5;241m12\u001b[39m, P)\n",
      "Cell \u001b[0;32mIn[103], line 40\u001b[0m, in \u001b[0;36mPlotPressure\u001b[0;34m(m, n, pressure)\u001b[0m\n\u001b[1;32m     38\u001b[0m Z \u001b[38;5;241m=\u001b[39m np\u001b[38;5;241m.\u001b[39mcopy(pressure)\n\u001b[1;32m     39\u001b[0m Z\u001b[38;5;241m.\u001b[39mshape \u001b[38;5;241m=\u001b[39m (n,m)\n\u001b[0;32m---> 40\u001b[0m fig, ax \u001b[38;5;241m=\u001b[39m \u001b[43mplt\u001b[49m\u001b[38;5;241m.\u001b[39msubplots(figsize\u001b[38;5;241m=\u001b[39m(\u001b[38;5;241m10\u001b[39m,\u001b[38;5;241m10\u001b[39m))\n\u001b[1;32m     41\u001b[0m ax\u001b[38;5;241m.\u001b[39mset_aspect(\u001b[38;5;124m'\u001b[39m\u001b[38;5;124mequal\u001b[39m\u001b[38;5;124m'\u001b[39m)\n\u001b[1;32m     42\u001b[0m ax\u001b[38;5;241m.\u001b[39mset(xlabel\u001b[38;5;241m=\u001b[39m\u001b[38;5;124m'\u001b[39m\u001b[38;5;124mx\u001b[39m\u001b[38;5;124m'\u001b[39m, ylabel\u001b[38;5;241m=\u001b[39m\u001b[38;5;124m'\u001b[39m\u001b[38;5;124my\u001b[39m\u001b[38;5;124m'\u001b[39m, title\u001b[38;5;241m=\u001b[39m\u001b[38;5;124m'\u001b[39m\u001b[38;5;124mContours of pressure\u001b[39m\u001b[38;5;124m'\u001b[39m)\n",
      "\u001b[0;31mNameError\u001b[0m: name 'plt' is not defined"
     ]
    }
   ],
   "source": [
    "\n",
    "\n",
    "P = SolveNetwork(conec2, C2, 120, 1, 3, nv2, nc2)\n",
    "PlotPressure(m,n, P)\n",
    "PlotPressureAsSurface(10,12, P)"
   ]
  }
 ],
 "metadata": {
  "kernelspec": {
   "display_name": "Python 3",
   "language": "python",
   "name": "python3"
  },
  "language_info": {
   "codemirror_mode": {
    "name": "ipython",
    "version": 3
   },
   "file_extension": ".py",
   "mimetype": "text/x-python",
   "name": "python",
   "nbconvert_exporter": "python",
   "pygments_lexer": "ipython3",
   "version": "3.12.2"
  }
 },
 "nbformat": 4,
 "nbformat_minor": 2
}
